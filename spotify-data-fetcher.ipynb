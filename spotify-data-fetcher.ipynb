{
 "cells": [
  {
   "cell_type": "code",
   "execution_count": 18,
   "metadata": {},
   "outputs": [],
   "source": [
    "import spotipy\n",
    "from spotipy.oauth2 import SpotifyClientCredentials\n",
    "import pandas as pd\n",
    "from dotenv import load_dotenv\n",
    "import os"
   ]
  },
  {
   "cell_type": "code",
   "execution_count": 19,
   "metadata": {},
   "outputs": [],
   "source": [
    "load_dotenv()\n",
    "\n",
    "client_id = os.getenv(\"client_id\")\n",
    "client_secret = os.getenv(\"client_secret\")\n",
    "\n",
    "\n",
    "client_credentials_manager = SpotifyClientCredentials(client_id=client_id, client_secret=client_secret)\n",
    "sp = spotipy.Spotify(client_credentials_manager=client_credentials_manager)"
   ]
  },
  {
   "cell_type": "code",
   "execution_count": 13,
   "metadata": {},
   "outputs": [],
   "source": [
    "def get_artist_id(artist_name):\n",
    "    if artist_name.lower() == 'adele':\n",
    "        return '4dpARuHxo51G3z768sgnrY'\n",
    "    else:\n",
    "        results = sp.search(q=f'artist:{artist_name}', type='artist', limit=10)\n",
    "        items = results['artists']['items']\n",
    "        \n",
    "        if len(items) > 0:\n",
    "            for artist in items:\n",
    "                if artist['name'].lower() == artist_name.lower():\n",
    "                    return artist['id']\n",
    "        return None"
   ]
  },
  {
   "cell_type": "code",
   "execution_count": 14,
   "metadata": {},
   "outputs": [],
   "source": [
    "def get_albums(artist_id):\n",
    "    albums = []\n",
    "    results = sp.artist_albums(artist_id, album_type='album')\n",
    "    albums.extend(results['items'])\n",
    "    while results['next']:\n",
    "        results = sp.next(results)\n",
    "        albums.extend(results['items'])\n",
    "    return albums"
   ]
  },
  {
   "cell_type": "code",
   "execution_count": 15,
   "metadata": {},
   "outputs": [],
   "source": [
    "def get_album_tracks(album_id):\n",
    "    tracks = []\n",
    "    results = sp.album_tracks(album_id)\n",
    "    tracks.extend(results['items'])\n",
    "    while results['next']:\n",
    "        results = sp.next(results)\n",
    "        tracks.extend(results['items'])\n",
    "    return tracks"
   ]
  },
  {
   "cell_type": "code",
   "execution_count": 16,
   "metadata": {},
   "outputs": [],
   "source": [
    "def get_track_popularity(track_id):\n",
    "    track = sp.track(track_id)\n",
    "    return track['popularity']\n",
    "\n",
    "def get_audio_features(track_id):\n",
    "    features = sp.audio_features(track_id)[0]\n",
    "    return features if features else {}\n",
    "\n",
    "def get_genres(artist_id):\n",
    "    artist = sp.artist(artist_id)\n",
    "    return artist['genres']\n",
    "\n",
    "def get_adele_songs_data(artist_name):\n",
    "    artist_id = get_artist_id(artist_name)\n",
    "    if not artist_id:\n",
    "        print(f\"Artist '{artist_name}' not found.\")\n",
    "        return None\n",
    "    \n",
    "    albums = get_albums(artist_id)\n",
    "    all_tracks = []\n",
    "\n",
    "    for album in albums:\n",
    "        album_tracks = get_album_tracks(album['id'])\n",
    "        for track in album_tracks:\n",
    "            audio_features = get_audio_features(track['id'])\n",
    "            track_data = {\n",
    "                'album_name': album['name'],\n",
    "                'track_name': track['name'],\n",
    "                'track_id': track['id'],\n",
    "                'release_date': album['release_date'],\n",
    "                'popularity': get_track_popularity(track['id']),\n",
    "                'duration_ms': audio_features.get('duration_ms'),\n",
    "                'danceability': audio_features.get('danceability'),\n",
    "                'energy': audio_features.get('energy'),\n",
    "                'key': audio_features.get('key'),\n",
    "                'loudness': audio_features.get('loudness'),\n",
    "                'mode': audio_features.get('mode'),\n",
    "                'speechiness': audio_features.get('speechiness'),\n",
    "                'valence': audio_features.get('valence'),\n",
    "                'track_url': track['external_urls']['spotify'],\n",
    "                'album_cover_url': album['images'][0]['url'] if album['images'] else None,\n",
    "            }\n",
    "            all_tracks.append(track_data)\n",
    "    \n",
    "    if all_tracks:\n",
    "        return pd.DataFrame(all_tracks)\n",
    "    else:\n",
    "        print(f\"No tracks found for artist '{artist_name}'.\")\n",
    "        return None"
   ]
  },
  {
   "cell_type": "code",
   "execution_count": 17,
   "metadata": {},
   "outputs": [
    {
     "name": "stdout",
     "output_type": "stream",
     "text": [
      "  album_name           track_name                track_id release_date  \\\n",
      "0         30  Strangers By Nature  13CVSGLSFl4UxpDVR6u3dq   2021-11-19   \n",
      "1         30           Easy On Me  46IZ0fSY2mpAiktS3KOqds   2021-11-19   \n",
      "2         30       My Little Love  2DuPBbS5mIldXnh7Wum8Cy   2021-11-19   \n",
      "3         30   Cry Your Heart Out  09u787BYeYIGd2mFIJ505t   2021-11-19   \n",
      "4         30            Oh My God  3Kkjo3cT83cw09VJyrLNwX   2021-11-19   \n",
      "\n",
      "   popularity  duration_ms  danceability  energy  key  loudness  mode  \\\n",
      "0          62       182163         0.387   0.253    5    -8.901     1   \n",
      "1          84       224695         0.604   0.366    5    -7.519     1   \n",
      "2          64       389107         0.339   0.492    1   -10.661     1   \n",
      "3          63       255278         0.756   0.713    7    -6.917     1   \n",
      "4          75       225149         0.534   0.725    1    -3.906     1   \n",
      "\n",
      "   speechiness  valence                                          track_url  \\\n",
      "0       0.0336    0.134  https://open.spotify.com/track/13CVSGLSFl4UxpD...   \n",
      "1       0.0282    0.130  https://open.spotify.com/track/46IZ0fSY2mpAikt...   \n",
      "2       0.0559    0.102  https://open.spotify.com/track/2DuPBbS5mIldXnh...   \n",
      "3       0.1020    0.590  https://open.spotify.com/track/09u787BYeYIGd2m...   \n",
      "4       0.0460    0.550  https://open.spotify.com/track/3Kkjo3cT83cw09V...   \n",
      "\n",
      "                                     album_cover_url  \n",
      "0  https://i.scdn.co/image/ab67616d0000b273c6b577...  \n",
      "1  https://i.scdn.co/image/ab67616d0000b273c6b577...  \n",
      "2  https://i.scdn.co/image/ab67616d0000b273c6b577...  \n",
      "3  https://i.scdn.co/image/ab67616d0000b273c6b577...  \n",
      "4  https://i.scdn.co/image/ab67616d0000b273c6b577...  \n"
     ]
    }
   ],
   "source": [
    "artist_name = \"Adele\"\n",
    "adele_songs_data = get_adele_songs_data(artist_name)\n",
    "\n",
    "if adele_songs_data is not None:\n",
    "    adele_songs_data.to_csv('adele_songs_data.csv', index=False)\n",
    "    print(adele_songs_data.head())\n",
    "else:\n",
    "    print(\"No data to save.\")"
   ]
  }
 ],
 "metadata": {
  "kernelspec": {
   "display_name": "Python 3",
   "language": "python",
   "name": "python3"
  },
  "language_info": {
   "codemirror_mode": {
    "name": "ipython",
    "version": 3
   },
   "file_extension": ".py",
   "mimetype": "text/x-python",
   "name": "python",
   "nbconvert_exporter": "python",
   "pygments_lexer": "ipython3",
   "version": "3.12.1"
  }
 },
 "nbformat": 4,
 "nbformat_minor": 2
}
